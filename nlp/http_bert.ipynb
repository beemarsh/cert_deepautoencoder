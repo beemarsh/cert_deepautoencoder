{
 "cells": [
  {
   "cell_type": "markdown",
   "id": "e3d57944-c588-418b-9502-167d024ea0e7",
   "metadata": {},
   "source": [
    "## This file will use BERT from google to get embeddings from content and url columns."
   ]
  },
  {
   "cell_type": "code",
   "execution_count": 7,
   "id": "912fded7-9b13-4100-8845-3aca656af398",
   "metadata": {},
   "outputs": [],
   "source": [
    "from transformers import AutoTokenizer, AutoModel\n",
    "import torch\n",
    "from torch.utils.data import DataLoader\n",
    "\n",
    "import numpy as np\n",
    "import pandas as pd\n",
    "from bertopic.backend import BaseEmbedder\n",
    "from bertopic import BERTopic\n",
    "from sentence_transformers import SentenceTransformer"
   ]
  },
  {
   "cell_type": "code",
   "execution_count": 8,
   "id": "ccd9008e-1800-481b-ab07-24527952bbae",
   "metadata": {},
   "outputs": [
    {
     "data": {
      "text/html": [
       "<div>\n",
       "<style scoped>\n",
       "    .dataframe tbody tr th:only-of-type {\n",
       "        vertical-align: middle;\n",
       "    }\n",
       "\n",
       "    .dataframe tbody tr th {\n",
       "        vertical-align: top;\n",
       "    }\n",
       "\n",
       "    .dataframe thead th {\n",
       "        text-align: right;\n",
       "    }\n",
       "</style>\n",
       "<table border=\"1\" class=\"dataframe\">\n",
       "  <thead>\n",
       "    <tr style=\"text-align: right;\">\n",
       "      <th></th>\n",
       "      <th>id</th>\n",
       "      <th>url</th>\n",
       "      <th>content</th>\n",
       "    </tr>\n",
       "  </thead>\n",
       "  <tbody>\n",
       "    <tr>\n",
       "      <th>0</th>\n",
       "      <td>{V1Y4-S2IR20QU-6154HFXJ}</td>\n",
       "      <td>http://msn.com/The_Human_Centipede_First_Seque...</td>\n",
       "      <td>remain representatives consensus concert altho...</td>\n",
       "    </tr>\n",
       "    <tr>\n",
       "      <th>1</th>\n",
       "      <td>{Q5R1-T3EF87UE-2395RWZS}</td>\n",
       "      <td>http://urbanspoon.com/Plunketts_Creek_Loyalsoc...</td>\n",
       "      <td>festival off northwards than congestion partne...</td>\n",
       "    </tr>\n",
       "    <tr>\n",
       "      <th>2</th>\n",
       "      <td>{X9O1-O0XW52VO-5806RPHG}</td>\n",
       "      <td>http://aa.com/Rhodocene/rhodocenium/fhaavatqrf...</td>\n",
       "      <td>long away reorganized baldwin seth business 18...</td>\n",
       "    </tr>\n",
       "    <tr>\n",
       "      <th>3</th>\n",
       "      <td>{G5S8-U5OG04TE-5299CCTU}</td>\n",
       "      <td>http://groupon.com/Leonhard_Euler/leonhard/tne...</td>\n",
       "      <td>among german schwein experimental becomes prev...</td>\n",
       "    </tr>\n",
       "    <tr>\n",
       "      <th>4</th>\n",
       "      <td>{L0R4-A9DH29VP-4553AUWM}</td>\n",
       "      <td>http://flickr.com/Inauguration_of_Barack_Obama...</td>\n",
       "      <td>kate criteria j 2008 highest 12 include books ...</td>\n",
       "    </tr>\n",
       "    <tr>\n",
       "      <th>...</th>\n",
       "      <td>...</td>\n",
       "      <td>...</td>\n",
       "      <td>...</td>\n",
       "    </tr>\n",
       "    <tr>\n",
       "      <th>995</th>\n",
       "      <td>{N7T0-L8DL49UV-2320NKFL}</td>\n",
       "      <td>http://hulu.com/Gray_mouse_lemur/lemur/qvfpbha...</td>\n",
       "      <td>illegal neither purchased average live intrasp...</td>\n",
       "    </tr>\n",
       "    <tr>\n",
       "      <th>996</th>\n",
       "      <td>{Z6N0-R9AN55GC-9305HGQD}</td>\n",
       "      <td>http://networksolutions.com/No_Line_on_the_Hor...</td>\n",
       "      <td>heard expected de never return out for detaile...</td>\n",
       "    </tr>\n",
       "    <tr>\n",
       "      <th>997</th>\n",
       "      <td>{H5M4-Q9RY97SC-6665MZVC}</td>\n",
       "      <td>http://hulu.com/Gray_mouse_lemur/lemur/qvfpbha...</td>\n",
       "      <td>whom this weeks sometimes showed favored clutc...</td>\n",
       "    </tr>\n",
       "    <tr>\n",
       "      <th>998</th>\n",
       "      <td>{Z6E1-P5XP02OQ-6516ESQA}</td>\n",
       "      <td>http://wordpress.org/The_Green_Dartmouth_Colle...</td>\n",
       "      <td>connect able your evident dropped insignifican...</td>\n",
       "    </tr>\n",
       "    <tr>\n",
       "      <th>999</th>\n",
       "      <td>{P5S3-W2NS42VU-8847NKQM}</td>\n",
       "      <td>http://nfl.com/Greece_runestones/dybeck/snzvyl...</td>\n",
       "      <td>wake wearing harder shots two tally 101 earnin...</td>\n",
       "    </tr>\n",
       "  </tbody>\n",
       "</table>\n",
       "<p>1000 rows × 3 columns</p>\n",
       "</div>"
      ],
      "text/plain": [
       "                           id  \\\n",
       "0    {V1Y4-S2IR20QU-6154HFXJ}   \n",
       "1    {Q5R1-T3EF87UE-2395RWZS}   \n",
       "2    {X9O1-O0XW52VO-5806RPHG}   \n",
       "3    {G5S8-U5OG04TE-5299CCTU}   \n",
       "4    {L0R4-A9DH29VP-4553AUWM}   \n",
       "..                        ...   \n",
       "995  {N7T0-L8DL49UV-2320NKFL}   \n",
       "996  {Z6N0-R9AN55GC-9305HGQD}   \n",
       "997  {H5M4-Q9RY97SC-6665MZVC}   \n",
       "998  {Z6E1-P5XP02OQ-6516ESQA}   \n",
       "999  {P5S3-W2NS42VU-8847NKQM}   \n",
       "\n",
       "                                                   url  \\\n",
       "0    http://msn.com/The_Human_Centipede_First_Seque...   \n",
       "1    http://urbanspoon.com/Plunketts_Creek_Loyalsoc...   \n",
       "2    http://aa.com/Rhodocene/rhodocenium/fhaavatqrf...   \n",
       "3    http://groupon.com/Leonhard_Euler/leonhard/tne...   \n",
       "4    http://flickr.com/Inauguration_of_Barack_Obama...   \n",
       "..                                                 ...   \n",
       "995  http://hulu.com/Gray_mouse_lemur/lemur/qvfpbha...   \n",
       "996  http://networksolutions.com/No_Line_on_the_Hor...   \n",
       "997  http://hulu.com/Gray_mouse_lemur/lemur/qvfpbha...   \n",
       "998  http://wordpress.org/The_Green_Dartmouth_Colle...   \n",
       "999  http://nfl.com/Greece_runestones/dybeck/snzvyl...   \n",
       "\n",
       "                                               content  \n",
       "0    remain representatives consensus concert altho...  \n",
       "1    festival off northwards than congestion partne...  \n",
       "2    long away reorganized baldwin seth business 18...  \n",
       "3    among german schwein experimental becomes prev...  \n",
       "4    kate criteria j 2008 highest 12 include books ...  \n",
       "..                                                 ...  \n",
       "995  illegal neither purchased average live intrasp...  \n",
       "996  heard expected de never return out for detaile...  \n",
       "997  whom this weeks sometimes showed favored clutc...  \n",
       "998  connect able your evident dropped insignifican...  \n",
       "999  wake wearing harder shots two tally 101 earnin...  \n",
       "\n",
       "[1000 rows x 3 columns]"
      ]
     },
     "execution_count": 8,
     "metadata": {},
     "output_type": "execute_result"
    }
   ],
   "source": [
    "df = pd.read_csv(\"../r4.2/http.csv\",usecols=['url','content','id'],nrows=1000)\n",
    "df"
   ]
  },
  {
   "cell_type": "code",
   "execution_count": 9,
   "id": "9ad5e9e8-1b98-4fbf-9fd1-0cc35386d60c",
   "metadata": {},
   "outputs": [],
   "source": [
    "# Load BERT model and tokenizer\n",
    "tokenizer = AutoTokenizer.from_pretrained(\"bert-base-uncased\")\n",
    "topic_model = AutoModel.from_pretrained(\"bert-base-uncased\").to('cuda')"
   ]
  },
  {
   "cell_type": "code",
   "execution_count": 10,
   "id": "879413bc-0288-4440-bcb0-2109cb2e7ccb",
   "metadata": {},
   "outputs": [
    {
     "name": "stdout",
     "output_type": "stream",
     "text": [
      "Using 2 GPUs\n"
     ]
    }
   ],
   "source": [
    "# Enable multi-GPU usage\n",
    "if torch.cuda.device_count() > 1:\n",
    "    print(f\"Using {torch.cuda.device_count()} GPUs\")\n",
    "    model = torch.nn.DataParallel(topic_model)\n",
    "\n",
    "model = model.to('cuda')  # Move model to GPU(s)"
   ]
  },
  {
   "cell_type": "code",
   "execution_count": 11,
   "id": "46268f61-1030-4a08-bb6c-42f6471f7bae",
   "metadata": {},
   "outputs": [],
   "source": [
    "# Function to get embeddings\n",
    "def get_bert_embeddings(texts):\n",
    "    inputs = tokenizer(texts, return_tensors=\"pt\", truncation=True, padding=True, max_length=512).to('cuda')\n",
    "    with torch.cuda.amp.autocast():  # Mixed precision for memory efficiency\n",
    "        outputs = model(**inputs)\n",
    "    cls_embeddings = outputs.last_hidden_state[:, 0, :].detach().cpu()\n",
    "    return cls_embeddings"
   ]
  },
  {
   "cell_type": "markdown",
   "id": "abc33a62-ffce-4671-aaea-cf954fdbfa9b",
   "metadata": {},
   "source": [
    "## First Get Embeddings for Content "
   ]
  },
  {
   "cell_type": "code",
   "execution_count": 12,
   "id": "3261b3fe-175c-4ddf-9c2b-4e3f8e48ca17",
   "metadata": {},
   "outputs": [],
   "source": [
    "# Process data in batches\n",
    "batch_size = 312  # Adjust based on memory usage\n",
    "dataloader = DataLoader(df['content'], batch_size=batch_size)"
   ]
  },
  {
   "cell_type": "code",
   "execution_count": 13,
   "id": "62c2f01e-7000-454e-93a1-f506eefa6e7a",
   "metadata": {},
   "outputs": [],
   "source": [
    "all_embeddings = []\n",
    "for batch in dataloader:\n",
    "    batch_embeddings = get_bert_embeddings(batch)\n",
    "    all_embeddings.extend(batch_embeddings.numpy())\n",
    "\n",
    "# Add embeddings to the dataframe\n",
    "df['content'] = all_embeddings"
   ]
  },
  {
   "cell_type": "markdown",
   "id": "cbae06e1-aade-45e0-8416-14ad18205d3f",
   "metadata": {},
   "source": [
    "## Get Embeddings for URL "
   ]
  },
  {
   "cell_type": "code",
   "execution_count": 14,
   "id": "db9aebcd-09df-47ec-b138-60e8838062c1",
   "metadata": {},
   "outputs": [],
   "source": [
    "# Process data in batches\n",
    "batch_size = 312  # Adjust based on memory usage\n",
    "dataloader = DataLoader(df['url'], batch_size=batch_size)"
   ]
  },
  {
   "cell_type": "code",
   "execution_count": 15,
   "id": "9864b1c1-e406-4864-877f-14d7eba886e6",
   "metadata": {},
   "outputs": [],
   "source": [
    "all_embeddings = []\n",
    "for batch in dataloader:\n",
    "    batch_embeddings = get_bert_embeddings(batch)\n",
    "    all_embeddings.extend(batch_embeddings.numpy())\n",
    "\n",
    "# Add embeddings to the dataframe\n",
    "df['url'] = all_embeddings"
   ]
  },
  {
   "cell_type": "code",
   "execution_count": 17,
   "id": "3a79b97e-ed6a-4185-84e0-0b5696e9ec10",
   "metadata": {},
   "outputs": [
    {
     "data": {
      "text/plain": [
       "768"
      ]
     },
     "execution_count": 17,
     "metadata": {},
     "output_type": "execute_result"
    }
   ],
   "source": [
    "len(df['url'][0])"
   ]
  },
  {
   "cell_type": "code",
   "execution_count": null,
   "id": "3cf0a2b1-c65b-4ecc-89f4-6ef474ba0912",
   "metadata": {},
   "outputs": [],
   "source": []
  }
 ],
 "metadata": {
  "kernelspec": {
   "display_name": "Python 3 (ipykernel)",
   "language": "python",
   "name": "python3"
  },
  "language_info": {
   "codemirror_mode": {
    "name": "ipython",
    "version": 3
   },
   "file_extension": ".py",
   "mimetype": "text/x-python",
   "name": "python",
   "nbconvert_exporter": "python",
   "pygments_lexer": "ipython3",
   "version": "3.11.5"
  }
 },
 "nbformat": 4,
 "nbformat_minor": 5
}
